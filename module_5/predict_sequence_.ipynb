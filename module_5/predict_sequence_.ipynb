{
 "cells": [
  {
   "cell_type": "code",
   "execution_count": 1,
   "metadata": {
    "pycharm": {
     "name": "#%%\n"
    }
   },
   "outputs": [
    {
     "name": "stderr",
     "output_type": "stream",
     "text": [
      "C:\\ProgramData\\Anaconda3\\envs\\myenv\\lib\\site-packages\\tqdm\\auto.py:22: TqdmWarning: IProgress not found. Please update jupyter and ipywidgets. See https://ipywidgets.readthedocs.io/en/stable/user_install.html\n",
      "  from .autonotebook import tqdm as notebook_tqdm\n"
     ]
    }
   ],
   "source": [
    "import random\n",
    "import time\n",
    "import numpy as np\n",
    "import torch"
   ]
  },
  {
   "cell_type": "code",
   "execution_count": 2,
   "outputs": [],
   "source": [
    "def generate_sequence(len_seq):\n",
    "    x = np.random.randint(0, 9, len_seq)\n",
    "    y = []\n",
    "    y.append(x[0])\n",
    "    for i in x[1:]:\n",
    "        yi = i + x[0]\n",
    "        if yi >= 10:\n",
    "            yi = yi - 10\n",
    "        y.append(yi)\n",
    "    y = np.array(y)\n",
    "    return x , y"
   ],
   "metadata": {
    "collapsed": false,
    "pycharm": {
     "name": "#%%\n"
    }
   }
  },
  {
   "cell_type": "code",
   "execution_count": 3,
   "metadata": {
    "pycharm": {
     "name": "#%%\n"
    }
   },
   "outputs": [],
   "source": [
    "def scaling_window(X, Y, seq_length):\n",
    "    x = []\n",
    "    y = []\n",
    "\n",
    "    for i in range(len(X)-seq_length-1):\n",
    "        _x = X[i:(i+seq_length)]\n",
    "        _y = Y[i:(i+seq_length)]\n",
    "        x.append(_x)\n",
    "        y.append(_y)\n",
    "\n",
    "    return np.array(x),np.array(y)\n",
    "\n",
    "\n",
    "x, y = generate_sequence(10000)\n",
    "\n",
    "seq_length = 6\n",
    "xw, yw = scaling_window(x, y, seq_length)"
   ]
  },
  {
   "cell_type": "code",
   "execution_count": 4,
   "metadata": {
    "pycharm": {
     "name": "#%%\n"
    }
   },
   "outputs": [],
   "source": [
    "class RnnFlex(torch.nn.Module):\n",
    "\n",
    "    def __init__(self, rnnClass):\n",
    "        super().__init__()\n",
    "        self.embed = torch.nn.Embedding(10, 32)\n",
    "        self.hidden = rnnClass(32, 128, batch_first=True)\n",
    "        self.linear = torch.nn.Linear(128, 10)\n",
    "\n",
    "    def forward(self, sentence, state=None):\n",
    "        embed = self.embed(sentence)\n",
    "        o, h = self.hidden(embed)\n",
    "        return self.linear(o)"
   ]
  },
  {
   "cell_type": "code",
   "execution_count": 5,
   "outputs": [
    {
     "name": "stdout",
     "output_type": "stream",
     "text": [
      "torch.Size([9993, 6]) torch.Size([9993, 6])\n"
     ]
    }
   ],
   "source": [
    "X = torch.zeros((len(xw), seq_length), dtype=int)\n",
    "Y = torch.zeros((len(xw), seq_length), dtype=int)\n",
    "\n",
    "for i, seq in enumerate(xw):\n",
    "    for t, num in enumerate(seq):\n",
    "        X[i, t] = num\n",
    "        Y[i, t] = yw[i, t]\n",
    "print(X.shape, Y.shape)"
   ],
   "metadata": {
    "collapsed": false,
    "pycharm": {
     "name": "#%%\n"
    }
   }
  },
  {
   "cell_type": "code",
   "execution_count": 6,
   "metadata": {
    "pycharm": {
     "name": "#%%\n"
    }
   },
   "outputs": [],
   "source": [
    "dataset = torch.utils.data.TensorDataset(X, Y)\n",
    "\n",
    "BATCH_SIZE = 32\n",
    "\n",
    "train_size = int(0.8 * len(dataset))\n",
    "test_size = len(dataset) - train_size\n",
    "train_dataset, test_dataset = torch.utils.data.random_split(dataset, [train_size, test_size])\n",
    "\n",
    "train_dl = torch.utils.data.DataLoader(train_dataset, BATCH_SIZE, shuffle=True)\n",
    "test_dl = torch.utils.data.DataLoader(test_dataset, BATCH_SIZE, shuffle=True)"
   ]
  },
  {
   "cell_type": "code",
   "execution_count": 7,
   "outputs": [
    {
     "name": "stdout",
     "output_type": "stream",
     "text": [
      "Epoch: 0, loss: 7.0397, acc: 0.9958 | test loss: 0.0026, test acc: 1.0000 | 0.71 sec.\n",
      "Epoch: 1, loss: 0.0768, acc: 1.0000 | test loss: 0.0140, test acc: 1.0000 | 0.65 sec.\n",
      "Epoch: 2, loss: 0.0659, acc: 1.0000 | test loss: 0.0009, test acc: 1.0000 | 0.67 sec.\n",
      "Epoch: 3, loss: 0.0632, acc: 1.0000 | test loss: 0.0007, test acc: 1.0000 | 0.65 sec.\n",
      "Epoch: 4, loss: 0.0633, acc: 1.0000 | test loss: 0.0005, test acc: 1.0000 | 0.66 sec.\n",
      "Epoch: 5, loss: 0.0620, acc: 1.0000 | test loss: 0.0005, test acc: 1.0000 | 0.64 sec.\n",
      "Epoch: 6, loss: 0.0593, acc: 1.0000 | test loss: 0.0003, test acc: 1.0000 | 0.65 sec.\n",
      "Epoch: 7, loss: 0.0622, acc: 1.0000 | test loss: 0.0003, test acc: 1.0000 | 0.65 sec.\n",
      "Epoch: 8, loss: 0.0648, acc: 1.0000 | test loss: 0.0003, test acc: 1.0000 | 0.65 sec.\n",
      "Epoch: 9, loss: 0.0661, acc: 1.0000 | test loss: 0.0003, test acc: 1.0000 | 0.64 sec.\n",
      "Epoch: 10, loss: 0.0647, acc: 1.0000 | test loss: 0.0003, test acc: 1.0000 | 0.65 sec.\n",
      "Epoch: 11, loss: 0.0653, acc: 1.0000 | test loss: 0.0002, test acc: 1.0000 | 0.64 sec.\n",
      "Epoch: 12, loss: 0.0689, acc: 1.0000 | test loss: 0.0002, test acc: 1.0000 | 0.65 sec.\n",
      "Epoch: 13, loss: 0.0737, acc: 1.0000 | test loss: 0.0001, test acc: 1.0000 | 0.64 sec.\n",
      "Epoch: 14, loss: 0.0797, acc: 1.0000 | test loss: 0.0001, test acc: 1.0000 | 0.63 sec.\n",
      "Epoch: 15, loss: 0.0760, acc: 1.0000 | test loss: 0.0009, test acc: 1.0000 | 0.65 sec.\n",
      "Epoch: 16, loss: 0.0887, acc: 1.0000 | test loss: 0.0499, test acc: 1.0000 | 0.65 sec.\n",
      "Epoch: 17, loss: 0.0651, acc: 1.0000 | test loss: 0.0001, test acc: 1.0000 | 0.63 sec.\n",
      "Epoch: 18, loss: 0.0789, acc: 1.0000 | test loss: 0.0001, test acc: 1.0000 | 0.64 sec.\n",
      "Epoch: 19, loss: 0.0683, acc: 1.0000 | test loss: 0.0006, test acc: 1.0000 | 0.64 sec.\n"
     ]
    }
   ],
   "source": [
    "\n",
    "num_epochs = 20\n",
    "learning_rate = 0.01\n",
    "\n",
    "model = RnnFlex(torch.nn.RNN)\n",
    "\n",
    "# criterion = torch.nn.MSELoss()\n",
    "criterion = torch.nn.CrossEntropyLoss()\n",
    "optimizer = torch.optim.Adam(model.parameters(), lr=learning_rate)\n",
    "\n",
    "for epoch in range(num_epochs):\n",
    "    train_loss, train_acc, iter_num = .0, .0, .0\n",
    "    start_epoch_time = time.time()\n",
    "    model.train()\n",
    "    for x_in, y_in in train_dl:\n",
    "        x_in = x_in\n",
    "        y_in = y_in.view(1, -1).squeeze()\n",
    "        optimizer.zero_grad()\n",
    "        out = model.forward(x_in).view(-1, 10)\n",
    "        l = criterion(out, y_in)\n",
    "        train_loss += l.item()\n",
    "        batch_acc = (out.argmax(dim=1) == y_in)\n",
    "        train_acc += batch_acc.sum().item() / batch_acc.shape[0]\n",
    "        l.backward()\n",
    "        optimizer.step()\n",
    "        iter_num += 1\n",
    "    print(\n",
    "        f\"Epoch: {epoch}, loss: {train_loss:.4f}, acc: \"\n",
    "        f\"{train_acc / iter_num:.4f}\",\n",
    "        end=\" | \"\n",
    "    )\n",
    "    test_loss, test_acc, iter_num = .0, .0, .0\n",
    "    model.eval()\n",
    "    for x_in, y_in in test_dl:\n",
    "        x_in = x_in\n",
    "        y_in = y_in.view(1, -1).squeeze()\n",
    "        out = model.forward(x_in).view(-1, 10)\n",
    "        l = criterion(out, y_in)\n",
    "        test_loss += l.item()\n",
    "        batch_acc = (out.argmax(dim=1) == y_in)\n",
    "        test_acc += batch_acc.sum().item() / batch_acc.shape[0]\n",
    "        iter_num += 1\n",
    "    print(\n",
    "        f\"test loss: {test_loss:.4f}, test acc: {test_acc / iter_num:.4f} | \"\n",
    "        f\"{time.time() - start_epoch_time:.2f} sec.\"\n",
    "    )"
   ],
   "metadata": {
    "collapsed": false,
    "pycharm": {
     "name": "#%%\n"
    }
   }
  },
  {
   "cell_type": "code",
   "execution_count": 8,
   "metadata": {
    "pycharm": {
     "name": "#%%\n"
    }
   },
   "outputs": [
    {
     "name": "stdout",
     "output_type": "stream",
     "text": [
      "x: tensor([5, 8, 5, 4, 8, 6]),\n",
      "y: tensor([2, 5, 2, 1, 5, 3]),\n",
      "y_pred: tensor([2, 5, 2, 1, 5, 3])\n"
     ]
    }
   ],
   "source": [
    "def predict():\n",
    "    x_in, y_in = random.choice(test_dataset)\n",
    "    model.eval()\n",
    "    outputs = model.forward(x_in).view(-1, 10)\n",
    "    print('x: {},\\ny: {},\\ny_pred: {}'.format(x_in, y_in, outputs.argmax(dim=1)))\n",
    "\n",
    "predict()"
   ]
  },
  {
   "cell_type": "code",
   "execution_count": 8,
   "outputs": [],
   "source": [],
   "metadata": {
    "collapsed": false,
    "pycharm": {
     "name": "#%%\n"
    }
   }
  }
 ],
 "metadata": {
  "kernelspec": {
   "display_name": "Python 3.8.10 ('py38')",
   "language": "python",
   "name": "python3"
  },
  "language_info": {
   "codemirror_mode": {
    "name": "ipython",
    "version": 3
   },
   "file_extension": ".py",
   "mimetype": "text/x-python",
   "name": "python",
   "nbconvert_exporter": "python",
   "pygments_lexer": "ipython3",
   "version": "3.8.10"
  },
  "orig_nbformat": 4,
  "vscode": {
   "interpreter": {
    "hash": "23ceb7112fbf9d0e38ecbf60d6e6d5e2dcebcc82200eeb1e5a5d5f9ffb9e27ca"
   }
  }
 },
 "nbformat": 4,
 "nbformat_minor": 2
}