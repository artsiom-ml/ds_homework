{
 "cells": [
  {
   "cell_type": "code",
   "execution_count": 16,
   "metadata": {
    "pycharm": {
     "name": "#%%\n"
    }
   },
   "outputs": [],
   "source": [
    "import random\n",
    "import time\n",
    "import numpy as np\n",
    "import torch"
   ]
  },
  {
   "cell_type": "code",
   "execution_count": 17,
   "outputs": [],
   "source": [
    "def generate_sequence(len_seq):\n",
    "    x = np.random.randint(0, 9, len_seq)\n",
    "    y = []\n",
    "    y.append(x[0])\n",
    "    for i in x[1:]:\n",
    "        yi = i + x[0]\n",
    "        if yi >= 10:\n",
    "            yi = yi - 10\n",
    "        y.append(yi)\n",
    "    y = np.array(y)\n",
    "    return x , y"
   ],
   "metadata": {
    "collapsed": false,
    "pycharm": {
     "name": "#%%\n"
    }
   }
  },
  {
   "cell_type": "code",
   "execution_count": 18,
   "metadata": {
    "pycharm": {
     "name": "#%%\n"
    }
   },
   "outputs": [],
   "source": [
    "def scaling_window(X, Y, seq_length):\n",
    "    x = []\n",
    "    y = []\n",
    "\n",
    "    for i in range(len(X)-seq_length-1):\n",
    "        _x = X[i:(i+seq_length)]\n",
    "        _y = Y[i:(i+seq_length)]\n",
    "        x.append(_x)\n",
    "        y.append(_y)\n",
    "\n",
    "    return np.array(x),np.array(y)\n",
    "\n",
    "\n",
    "x, y = generate_sequence(10000)\n",
    "\n",
    "seq_length = 6\n",
    "xw, yw = scaling_window(x, y, seq_length)"
   ]
  },
  {
   "cell_type": "code",
   "execution_count": 19,
   "metadata": {
    "pycharm": {
     "name": "#%%\n"
    }
   },
   "outputs": [],
   "source": [
    "class RnnFlex(torch.nn.Module):\n",
    "\n",
    "    def __init__(self, rnnClass):\n",
    "        super().__init__()\n",
    "        self.embed = torch.nn.Embedding(10, 32)\n",
    "        self.hidden = rnnClass(32, 128, batch_first=True)\n",
    "        self.linear = torch.nn.Linear(128, 10)\n",
    "\n",
    "    def forward(self, sentence, state=None):\n",
    "        embed = self.embed(sentence)\n",
    "        o, h = self.hidden(embed)\n",
    "        return self.linear(o)"
   ]
  },
  {
   "cell_type": "code",
   "execution_count": 20,
   "outputs": [],
   "source": [
    "X = torch.zeros((len(xw), seq_length), dtype=int)\n",
    "Y = torch.zeros((len(xw), seq_length), dtype=int)\n",
    "\n",
    "for i, seq in enumerate(xw):\n",
    "    for t, num in enumerate(seq):\n",
    "        X[i, t] = num\n",
    "        Y[i, t] = yw[i, t]"
   ],
   "metadata": {
    "collapsed": false,
    "pycharm": {
     "name": "#%%\n"
    }
   }
  },
  {
   "cell_type": "code",
   "execution_count": 21,
   "metadata": {
    "pycharm": {
     "name": "#%%\n"
    }
   },
   "outputs": [],
   "source": [
    "dataset = torch.utils.data.TensorDataset(X, Y)\n",
    "\n",
    "BATCH_SIZE = 32\n",
    "\n",
    "train_size = int(0.8 * len(dataset))\n",
    "test_size = len(dataset) - train_size\n",
    "train_dataset, test_dataset = torch.utils.data.random_split(dataset, [train_size, test_size])\n",
    "\n",
    "train_dl = torch.utils.data.DataLoader(train_dataset, BATCH_SIZE, shuffle=True)\n",
    "test_dl = torch.utils.data.DataLoader(test_dataset, BATCH_SIZE, shuffle=True)"
   ]
  },
  {
   "cell_type": "code",
   "execution_count": 22,
   "outputs": [
    {
     "name": "stdout",
     "output_type": "stream",
     "text": [
      "Epoch: 0, loss: 6.5250, acc: 0.9958 | test loss: 0.0914, test acc: 0.9999 | 1.12 sec.\n",
      "Epoch: 1, loss: 0.0043, acc: 1.0000 | test loss: 0.0918, test acc: 0.9999 | 1.26 sec.\n",
      "Epoch: 2, loss: 0.0026, acc: 1.0000 | test loss: 0.0924, test acc: 0.9999 | 1.11 sec.\n",
      "Epoch: 3, loss: 0.0018, acc: 1.0000 | test loss: 0.0931, test acc: 0.9999 | 1.10 sec.\n",
      "Epoch: 4, loss: 0.0013, acc: 1.0000 | test loss: 0.0938, test acc: 0.9999 | 1.06 sec.\n",
      "Epoch: 5, loss: 0.0010, acc: 1.0000 | test loss: 0.0945, test acc: 0.9999 | 1.25 sec.\n",
      "Epoch: 6, loss: 0.0008, acc: 1.0000 | test loss: 0.0951, test acc: 0.9999 | 1.01 sec.\n",
      "Epoch: 7, loss: 0.0006, acc: 1.0000 | test loss: 0.0958, test acc: 0.9999 | 1.20 sec.\n",
      "Epoch: 8, loss: 0.0005, acc: 1.0000 | test loss: 0.0964, test acc: 0.9999 | 1.20 sec.\n",
      "Epoch: 9, loss: 0.0004, acc: 1.0000 | test loss: 0.0970, test acc: 0.9999 | 1.06 sec.\n",
      "Epoch: 10, loss: 0.0004, acc: 1.0000 | test loss: 0.0975, test acc: 0.9999 | 1.13 sec.\n",
      "Epoch: 11, loss: 0.0003, acc: 1.0000 | test loss: 0.0981, test acc: 0.9999 | 1.05 sec.\n",
      "Epoch: 12, loss: 0.0003, acc: 1.0000 | test loss: 0.0986, test acc: 0.9999 | 1.21 sec.\n",
      "Epoch: 13, loss: 0.0002, acc: 1.0000 | test loss: 0.0992, test acc: 0.9999 | 1.11 sec.\n",
      "Epoch: 14, loss: 0.0002, acc: 1.0000 | test loss: 0.0997, test acc: 0.9999 | 1.25 sec.\n",
      "Epoch: 15, loss: 0.0002, acc: 1.0000 | test loss: 0.1002, test acc: 0.9999 | 1.01 sec.\n",
      "Epoch: 16, loss: 0.0001, acc: 1.0000 | test loss: 0.1007, test acc: 0.9999 | 1.08 sec.\n",
      "Epoch: 17, loss: 0.0001, acc: 1.0000 | test loss: 0.1013, test acc: 0.9999 | 1.22 sec.\n",
      "Epoch: 18, loss: 0.0001, acc: 1.0000 | test loss: 0.1018, test acc: 0.9999 | 1.03 sec.\n",
      "Epoch: 19, loss: 0.0001, acc: 1.0000 | test loss: 0.1023, test acc: 0.9999 | 1.09 sec.\n"
     ]
    }
   ],
   "source": [
    "\n",
    "num_epochs = 20\n",
    "learning_rate = 0.01\n",
    "\n",
    "model = RnnFlex(torch.nn.RNN)\n",
    "\n",
    "criterion = torch.nn.CrossEntropyLoss()\n",
    "optimizer = torch.optim.Adam(model.parameters(), lr=learning_rate)\n",
    "\n",
    "for epoch in range(num_epochs):\n",
    "    train_loss, train_acc, iter_num = .0, .0, .0\n",
    "    start_epoch_time = time.time()\n",
    "    model.train()\n",
    "    for x_in, y_in in train_dl:\n",
    "        x_in = x_in\n",
    "        y_in = y_in.view(1, -1).squeeze()\n",
    "        optimizer.zero_grad()\n",
    "        out = model.forward(x_in).view(-1, 10)\n",
    "        l = criterion(out, y_in)\n",
    "        train_loss += l.item()\n",
    "        batch_acc = (out.argmax(dim=1) == y_in)\n",
    "        train_acc += batch_acc.sum().item() / batch_acc.shape[0]\n",
    "        l.backward()\n",
    "        optimizer.step()\n",
    "        iter_num += 1\n",
    "    print(\n",
    "        f\"Epoch: {epoch}, loss: {train_loss:.4f}, acc: \"\n",
    "        f\"{train_acc / iter_num:.4f}\",\n",
    "        end=\" | \"\n",
    "    )\n",
    "    test_loss, test_acc, iter_num = .0, .0, .0\n",
    "    model.eval()\n",
    "    for x_in, y_in in test_dl:\n",
    "        x_in = x_in\n",
    "        y_in = y_in.view(1, -1).squeeze()\n",
    "        out = model.forward(x_in).view(-1, 10)\n",
    "        l = criterion(out, y_in)\n",
    "        test_loss += l.item()\n",
    "        batch_acc = (out.argmax(dim=1) == y_in)\n",
    "        test_acc += batch_acc.sum().item() / batch_acc.shape[0]\n",
    "        iter_num += 1\n",
    "    print(\n",
    "        f\"test loss: {test_loss:.4f}, test acc: {test_acc / iter_num:.4f} | \"\n",
    "        f\"{time.time() - start_epoch_time:.2f} sec.\"\n",
    "    )"
   ],
   "metadata": {
    "collapsed": false,
    "pycharm": {
     "name": "#%%\n"
    }
   }
  },
  {
   "cell_type": "code",
   "execution_count": 23,
   "metadata": {
    "pycharm": {
     "name": "#%%\n"
    }
   },
   "outputs": [
    {
     "name": "stdout",
     "output_type": "stream",
     "text": [
      "x: tensor([4, 3, 8, 7, 2, 8]),\n",
      "y: tensor([0, 9, 4, 3, 8, 4]),\n",
      "y_pred: tensor([0, 9, 4, 3, 8, 4])\n",
      "Accuracy = 1.00\n"
     ]
    }
   ],
   "source": [
    "def predict():\n",
    "    x_in, y_in = random.choice(test_dataset)\n",
    "    model.eval()\n",
    "    outputs = model.forward(x_in).view(-1, 10)\n",
    "    print('x: {},\\ny: {},\\ny_pred: {}'.format(x_in, y_in, outputs.argmax(dim=1)))\n",
    "\n",
    "    val_acc = (outputs.argmax(dim=1) == y_in).flatten()\n",
    "    val_acc = (val_acc.sum() / val_acc.shape[0]).item()\n",
    "    print('Accuracy = {:.2f}'.format(val_acc))\n",
    "\n",
    "predict()"
   ]
  }
 ],
 "metadata": {
  "kernelspec": {
   "display_name": "Python 3.8.10 ('py38')",
   "language": "python",
   "name": "python3"
  },
  "language_info": {
   "codemirror_mode": {
    "name": "ipython",
    "version": 3
   },
   "file_extension": ".py",
   "mimetype": "text/x-python",
   "name": "python",
   "nbconvert_exporter": "python",
   "pygments_lexer": "ipython3",
   "version": "3.8.10"
  },
  "orig_nbformat": 4,
  "vscode": {
   "interpreter": {
    "hash": "23ceb7112fbf9d0e38ecbf60d6e6d5e2dcebcc82200eeb1e5a5d5f9ffb9e27ca"
   }
  }
 },
 "nbformat": 4,
 "nbformat_minor": 2
}