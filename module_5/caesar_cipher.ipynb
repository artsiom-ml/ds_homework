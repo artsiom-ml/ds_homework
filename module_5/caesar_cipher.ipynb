{
 "cells": [
  {
   "cell_type": "code",
   "execution_count": 1,
   "metadata": {
    "pycharm": {
     "name": "#%%\n"
    },
    "tags": []
   },
   "outputs": [
    {
     "name": "stderr",
     "output_type": "stream",
     "text": [
      "C:\\ProgramData\\Anaconda3\\envs\\myenv\\lib\\site-packages\\tqdm\\auto.py:22: TqdmWarning: IProgress not found. Please update jupyter and ipywidgets. See https://ipywidgets.readthedocs.io/en/stable/user_install.html\n",
      "  from .autonotebook import tqdm as notebook_tqdm\n"
     ]
    }
   ],
   "source": [
    "import re\n",
    "import time\n",
    "import torch"
   ]
  },
  {
   "cell_type": "code",
   "execution_count": 7,
   "metadata": {
    "pycharm": {
     "name": "#%%\n"
    }
   },
   "outputs": [],
   "source": [
    "FILE_NAME = './data/nietzsche.txt'\n",
    "CAESAR_OFFSET = 2\n",
    "MAX_LEN = 50 \n",
    "STEP = 50\n",
    "CHARS = list('abcdefghijklmnopqrstuvwxyz ')\n",
    "INDEX_TO_CHAR = [w for w in sorted(CHARS)]\n",
    "CHAR_TO_INDEX = {w: i for i, w in enumerate(INDEX_TO_CHAR)}\n",
    "BATCH_SIZE = 512\n",
    "NUM_EPOCHS = 15"
   ]
  },
  {
   "cell_type": "code",
   "execution_count": 8,
   "metadata": {
    "pycharm": {
     "name": "#%%\n"
    }
   },
   "outputs": [],
   "source": [
    "def load_and_vanilla_preprocess(txt_path):\n",
    "    with open(txt_path, encoding='utf-8') as txt_file:\n",
    "        text = txt_file.read().lower()\n",
    "    text = re.sub('[^a-z ]', ' ', text)\n",
    "    text = re.sub('\\s+', ' ', text)\n",
    "    txt_file.close()\n",
    "    return text\n",
    "\n",
    "def text_to_sentences(text):\n",
    "    sentences = []\n",
    "    for i in range(0, len(text) - MAX_LEN, STEP):\n",
    "        sentences.append(text[i: i + MAX_LEN])\n",
    "    return sentences\n",
    "\n",
    "def tokenize(text):\n",
    "    return [[c for c in ph] for ph in text if type(ph) is str]\n",
    "\n",
    "def caesor(s, shift):\n",
    "    res = ''\n",
    "    for c in s:\n",
    "        if c not in CHARS:\n",
    "            res += ' '\n",
    "        else:\n",
    "            res += CHARS[(CHARS.index(c.lower()) + shift) % len(CHARS)]\n",
    "    return res\n",
    "\n",
    "raw_text = load_and_vanilla_preprocess(FILE_NAME)\n",
    "\n",
    "sentences = text_to_sentences(raw_text)\n",
    "\n",
    "text = tokenize(sentences)\n"
   ]
  },
  {
   "cell_type": "code",
   "execution_count": 9,
   "metadata": {
    "collapsed": false,
    "jupyter": {
     "outputs_hidden": false
    },
    "pycharm": {
     "name": "#%%\n"
    }
   },
   "outputs": [],
   "source": [
    "def vectorize(text):\n",
    "    X = torch.zeros((len(text), MAX_LEN), dtype=int)\n",
    "    Y = torch.zeros((len(text), MAX_LEN), dtype=int)\n",
    "\n",
    "    for i in range(len(text)):\n",
    "        for j, w in enumerate(text[i]):\n",
    "            if j >= MAX_LEN:\n",
    "                break\n",
    "            X[i, j] = CHAR_TO_INDEX.get(caesor(w, CAESAR_OFFSET), CHAR_TO_INDEX[' '])\n",
    "            Y[i, j] = CHAR_TO_INDEX.get(w, CHAR_TO_INDEX[' '])\n",
    "    return X, Y\n",
    "\n",
    "X, Y = vectorize(text)\n",
    "\n",
    "dataset = torch.utils.data.TensorDataset(X, Y)"
   ]
  },
  {
   "cell_type": "code",
   "execution_count": 10,
   "metadata": {
    "pycharm": {
     "name": "#%%\n"
    }
   },
   "outputs": [],
   "source": [
    "train_size = int(0.8 * len(dataset))\n",
    "test_size = len(dataset) - train_size\n",
    "train_dataset, test_dataset = torch.utils.data.random_split(dataset, [train_size, test_size])\n",
    "\n",
    "train_dl = torch.utils.data.DataLoader(train_dataset, BATCH_SIZE, shuffle=True)\n",
    "test_dl = torch.utils.data.DataLoader(test_dataset, BATCH_SIZE, shuffle=True)"
   ]
  },
  {
   "cell_type": "code",
   "execution_count": 11,
   "metadata": {
    "collapsed": false,
    "jupyter": {
     "outputs_hidden": false
    },
    "pycharm": {
     "name": "#%%\n"
    }
   },
   "outputs": [],
   "source": [
    "class RNNModel(torch.nn.Module):\n",
    "    \n",
    "    def __init__(self):\n",
    "        super().__init__()\n",
    "        self.embed = torch.nn.Embedding(len(CHARS) + CAESAR_OFFSET, 32)\n",
    "        self.rnn = torch.nn.RNN(32, 128, batch_first=True)\n",
    "        self.linear = torch.nn.Linear(128, len(CHARS) + CAESAR_OFFSET)\n",
    "\n",
    "    def forward(self, sentence, state=None):\n",
    "        embed = self.embed(sentence)\n",
    "        o, h = self.rnn(embed)\n",
    "        return self.linear(o)"
   ]
  },
  {
   "cell_type": "code",
   "execution_count": 12,
   "metadata": {
    "collapsed": false,
    "jupyter": {
     "outputs_hidden": false
    },
    "pycharm": {
     "name": "#%%\n"
    }
   },
   "outputs": [],
   "source": [
    "model = RNNModel()\n",
    "criterion = torch.nn.CrossEntropyLoss()\n",
    "optimizer = torch.optim.SGD(model.parameters(), lr=.05)"
   ]
  },
  {
   "cell_type": "code",
   "execution_count": 13,
   "metadata": {
    "collapsed": false,
    "jupyter": {
     "outputs_hidden": false
    },
    "pycharm": {
     "name": "#%%\n"
    }
   },
   "outputs": [
    {
     "name": "stdout",
     "output_type": "stream",
     "text": [
      "Epoch: 0, loss: 51.3414, acc: 0.4844 | test loss: 10.3585, test acc: 0.7190 | 1.92 sec.\n",
      "Epoch: 1, loss: 32.3631, acc: 0.7679 | test loss: 6.9035, test acc: 0.7958 | 1.56 sec.\n",
      "Epoch: 2, loss: 22.1778, acc: 0.8137 | test loss: 4.9036, test acc: 0.8378 | 1.48 sec.\n",
      "Epoch: 3, loss: 16.2316, acc: 0.8612 | test loss: 3.7295, test acc: 0.8823 | 1.52 sec.\n",
      "Epoch: 4, loss: 12.6501, acc: 0.8963 | test loss: 2.9649, test acc: 0.9089 | 1.46 sec.\n",
      "Epoch: 5, loss: 10.2176, acc: 0.9214 | test loss: 2.4302, test acc: 0.9378 | 1.78 sec.\n",
      "Epoch: 6, loss: 8.4100, acc: 0.9495 | test loss: 2.0202, test acc: 0.9565 | 1.47 sec.\n",
      "Epoch: 7, loss: 7.0602, acc: 0.9606 | test loss: 1.7117, test acc: 0.9636 | 1.51 sec.\n",
      "Epoch: 8, loss: 6.0229, acc: 0.9660 | test loss: 1.4689, test acc: 0.9703 | 1.42 sec.\n",
      "Epoch: 9, loss: 5.2029, acc: 0.9744 | test loss: 1.2791, test acc: 0.9792 | 1.41 sec.\n",
      "Epoch: 10, loss: 4.5598, acc: 0.9821 | test loss: 1.1272, test acc: 0.9848 | 1.43 sec.\n",
      "Epoch: 11, loss: 4.0344, acc: 0.9878 | test loss: 1.0021, test acc: 0.9897 | 1.52 sec.\n",
      "Epoch: 12, loss: 3.5870, acc: 0.9910 | test loss: 0.8980, test acc: 0.9914 | 1.43 sec.\n",
      "Epoch: 13, loss: 3.2534, acc: 0.9917 | test loss: 0.8133, test acc: 0.9918 | 1.41 sec.\n",
      "Epoch: 14, loss: 2.9370, acc: 0.9922 | test loss: 0.7406, test acc: 0.9918 | 1.46 sec.\n"
     ]
    }
   ],
   "source": [
    "for epoch in range(NUM_EPOCHS):\n",
    "    train_loss, train_acc, iter_num = .0, .0, .0\n",
    "    start_epoch_time = time.time()\n",
    "    model.train()\n",
    "    for x_in, y_in in train_dl:\n",
    "        x_in = x_in\n",
    "        y_in = y_in.view(1, -1).squeeze()\n",
    "        optimizer.zero_grad()\n",
    "        out = model.forward(x_in).view(-1, len(CHARS) + CAESAR_OFFSET)\n",
    "        l = criterion(out, y_in)\n",
    "        train_loss += l.item()\n",
    "        batch_acc = (out.argmax(dim=1) == y_in)\n",
    "        train_acc += batch_acc.sum().item() / batch_acc.shape[0]\n",
    "        l.backward()\n",
    "        optimizer.step()\n",
    "        iter_num += 1\n",
    "    print(\n",
    "        f\"Epoch: {epoch}, loss: {train_loss:.4f}, acc: \"\n",
    "        f\"{train_acc / iter_num:.4f}\",\n",
    "        end=\" | \"\n",
    "    )\n",
    "    test_loss, test_acc, iter_num = .0, .0, .0\n",
    "    model.eval()\n",
    "    for x_in, y_in in test_dl:\n",
    "        x_in = x_in\n",
    "        y_in = y_in.view(1, -1).squeeze()\n",
    "        out = model.forward(x_in).view(-1, len(CHARS) + CAESAR_OFFSET)\n",
    "        l = criterion(out, y_in)\n",
    "        test_loss += l.item()\n",
    "        batch_acc = (out.argmax(dim=1) == y_in)\n",
    "        test_acc += batch_acc.sum().item() / batch_acc.shape[0]\n",
    "        iter_num += 1\n",
    "    print(\n",
    "        f\"test loss: {test_loss:.4f}, test acc: {test_acc / iter_num:.4f} | \"\n",
    "        f\"{time.time() - start_epoch_time:.2f} sec.\"\n",
    "    )"
   ]
  },
  {
   "cell_type": "code",
   "execution_count": 16,
   "metadata": {
    "pycharm": {
     "name": "#%%\n"
    }
   },
   "outputs": [
    {
     "data": {
      "text/plain": "'hello world'"
     },
     "execution_count": 16,
     "metadata": {},
     "output_type": "execute_result"
    }
   ],
   "source": [
    "def decoder(phrase, model):\n",
    "    phrase_idx = [CHAR_TO_INDEX[k] for k in phrase]\n",
    "    result = model.forward(torch.tensor([phrase_idx])).argmax(dim=2)\n",
    "    return \"\".join([INDEX_TO_CHAR[item.item()] for i, item in enumerate(result[0])])\n",
    "\n",
    "phrase = 'jgnnqbyqtnf'\n",
    "\n",
    "decoder(phrase, model)"
   ]
  }
 ],
 "metadata": {
  "kernelspec": {
   "display_name": "Python 3.8.10 ('py38')",
   "language": "python",
   "name": "python3"
  },
  "language_info": {
   "codemirror_mode": {
    "name": "ipython",
    "version": 3
   },
   "file_extension": ".py",
   "mimetype": "text/x-python",
   "name": "python",
   "nbconvert_exporter": "python",
   "pygments_lexer": "ipython3",
   "version": "3.8.10"
  },
  "vscode": {
   "interpreter": {
    "hash": "23ceb7112fbf9d0e38ecbf60d6e6d5e2dcebcc82200eeb1e5a5d5f9ffb9e27ca"
   }
  }
 },
 "nbformat": 4,
 "nbformat_minor": 4
}