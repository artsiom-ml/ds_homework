{
 "cells": [
  {
   "cell_type": "code",
   "execution_count": 1,
   "metadata": {
    "pycharm": {
     "name": "#%%\n"
    }
   },
   "outputs": [],
   "source": [
    "import re\n",
    "import pandas as pd\n",
    "from sklearn.metrics.pairwise import cosine_similarity\n",
    "from sklearn.metrics.pairwise import linear_kernel\n",
    "from sklearn.feature_extraction.text import TfidfVectorizer\n",
    "import matplotlib.pyplot as plt\n",
    "import seaborn as sns\n",
    "import warnings\n",
    "\n",
    "warnings.filterwarnings(\"ignore\")"
   ]
  },
  {
   "cell_type": "code",
   "execution_count": 2,
   "metadata": {
    "pycharm": {
     "name": "#%%\n"
    }
   },
   "outputs": [
    {
     "data": {
      "text/plain": "                                                 url  \\\n0  https://www.zomato.com/bangalore/jalsa-banasha...   \n1  https://www.zomato.com/bangalore/spice-elephan...   \n2  https://www.zomato.com/SanchurroBangalore?cont...   \n3  https://www.zomato.com/bangalore/addhuri-udupi...   \n4  https://www.zomato.com/bangalore/grand-village...   \n\n                                             address                   name  \\\n0  942, 21st Main Road, 2nd Stage, Banashankari, ...                  Jalsa   \n1  2nd Floor, 80 Feet Road, Near Big Bazaar, 6th ...         Spice Elephant   \n2  1112, Next to KIMS Medical College, 17th Cross...        San Churro Cafe   \n3  1st Floor, Annakuteera, 3rd Stage, Banashankar...  Addhuri Udupi Bhojana   \n4  10, 3rd Floor, Lakshmi Associates, Gandhi Baza...          Grand Village   \n\n  online_order book_table   rate  votes                             phone  \\\n0          Yes        Yes  4.1/5    775    080 42297555\\r\\n+91 9743772233   \n1          Yes         No  4.1/5    787                      080 41714161   \n2          Yes         No  3.8/5    918                    +91 9663487993   \n3           No         No  3.7/5     88                    +91 9620009302   \n4           No         No  3.8/5    166  +91 8026612447\\r\\n+91 9901210005   \n\n       location            rest_type  \\\n0  Banashankari        Casual Dining   \n1  Banashankari        Casual Dining   \n2  Banashankari  Cafe, Casual Dining   \n3  Banashankari          Quick Bites   \n4  Basavanagudi        Casual Dining   \n\n                                          dish_liked  \\\n0  Pasta, Lunch Buffet, Masala Papad, Paneer Laja...   \n1  Momos, Lunch Buffet, Chocolate Nirvana, Thai G...   \n2  Churros, Cannelloni, Minestrone Soup, Hot Choc...   \n3                                        Masala Dosa   \n4                                Panipuri, Gol Gappe   \n\n                         cuisines approx_cost(for two people)  \\\n0  North Indian, Mughlai, Chinese                         800   \n1     Chinese, North Indian, Thai                         800   \n2          Cafe, Mexican, Italian                         800   \n3      South Indian, North Indian                         300   \n4        North Indian, Rajasthani                         600   \n\n                                        reviews_list menu_item  \\\n0  [('Rated 4.0', 'RATED\\n  A beautiful place to ...        []   \n1  [('Rated 4.0', 'RATED\\n  Had been here for din...        []   \n2  [('Rated 3.0', \"RATED\\n  Ambience is not that ...        []   \n3  [('Rated 4.0', \"RATED\\n  Great food and proper...        []   \n4  [('Rated 4.0', 'RATED\\n  Very good restaurant ...        []   \n\n  listed_in(type) listed_in(city)  \n0          Buffet    Banashankari  \n1          Buffet    Banashankari  \n2          Buffet    Banashankari  \n3          Buffet    Banashankari  \n4          Buffet    Banashankari  ",
      "text/html": "<div>\n<style scoped>\n    .dataframe tbody tr th:only-of-type {\n        vertical-align: middle;\n    }\n\n    .dataframe tbody tr th {\n        vertical-align: top;\n    }\n\n    .dataframe thead th {\n        text-align: right;\n    }\n</style>\n<table border=\"1\" class=\"dataframe\">\n  <thead>\n    <tr style=\"text-align: right;\">\n      <th></th>\n      <th>url</th>\n      <th>address</th>\n      <th>name</th>\n      <th>online_order</th>\n      <th>book_table</th>\n      <th>rate</th>\n      <th>votes</th>\n      <th>phone</th>\n      <th>location</th>\n      <th>rest_type</th>\n      <th>dish_liked</th>\n      <th>cuisines</th>\n      <th>approx_cost(for two people)</th>\n      <th>reviews_list</th>\n      <th>menu_item</th>\n      <th>listed_in(type)</th>\n      <th>listed_in(city)</th>\n    </tr>\n  </thead>\n  <tbody>\n    <tr>\n      <th>0</th>\n      <td>https://www.zomato.com/bangalore/jalsa-banasha...</td>\n      <td>942, 21st Main Road, 2nd Stage, Banashankari, ...</td>\n      <td>Jalsa</td>\n      <td>Yes</td>\n      <td>Yes</td>\n      <td>4.1/5</td>\n      <td>775</td>\n      <td>080 42297555\\r\\n+91 9743772233</td>\n      <td>Banashankari</td>\n      <td>Casual Dining</td>\n      <td>Pasta, Lunch Buffet, Masala Papad, Paneer Laja...</td>\n      <td>North Indian, Mughlai, Chinese</td>\n      <td>800</td>\n      <td>[('Rated 4.0', 'RATED\\n  A beautiful place to ...</td>\n      <td>[]</td>\n      <td>Buffet</td>\n      <td>Banashankari</td>\n    </tr>\n    <tr>\n      <th>1</th>\n      <td>https://www.zomato.com/bangalore/spice-elephan...</td>\n      <td>2nd Floor, 80 Feet Road, Near Big Bazaar, 6th ...</td>\n      <td>Spice Elephant</td>\n      <td>Yes</td>\n      <td>No</td>\n      <td>4.1/5</td>\n      <td>787</td>\n      <td>080 41714161</td>\n      <td>Banashankari</td>\n      <td>Casual Dining</td>\n      <td>Momos, Lunch Buffet, Chocolate Nirvana, Thai G...</td>\n      <td>Chinese, North Indian, Thai</td>\n      <td>800</td>\n      <td>[('Rated 4.0', 'RATED\\n  Had been here for din...</td>\n      <td>[]</td>\n      <td>Buffet</td>\n      <td>Banashankari</td>\n    </tr>\n    <tr>\n      <th>2</th>\n      <td>https://www.zomato.com/SanchurroBangalore?cont...</td>\n      <td>1112, Next to KIMS Medical College, 17th Cross...</td>\n      <td>San Churro Cafe</td>\n      <td>Yes</td>\n      <td>No</td>\n      <td>3.8/5</td>\n      <td>918</td>\n      <td>+91 9663487993</td>\n      <td>Banashankari</td>\n      <td>Cafe, Casual Dining</td>\n      <td>Churros, Cannelloni, Minestrone Soup, Hot Choc...</td>\n      <td>Cafe, Mexican, Italian</td>\n      <td>800</td>\n      <td>[('Rated 3.0', \"RATED\\n  Ambience is not that ...</td>\n      <td>[]</td>\n      <td>Buffet</td>\n      <td>Banashankari</td>\n    </tr>\n    <tr>\n      <th>3</th>\n      <td>https://www.zomato.com/bangalore/addhuri-udupi...</td>\n      <td>1st Floor, Annakuteera, 3rd Stage, Banashankar...</td>\n      <td>Addhuri Udupi Bhojana</td>\n      <td>No</td>\n      <td>No</td>\n      <td>3.7/5</td>\n      <td>88</td>\n      <td>+91 9620009302</td>\n      <td>Banashankari</td>\n      <td>Quick Bites</td>\n      <td>Masala Dosa</td>\n      <td>South Indian, North Indian</td>\n      <td>300</td>\n      <td>[('Rated 4.0', \"RATED\\n  Great food and proper...</td>\n      <td>[]</td>\n      <td>Buffet</td>\n      <td>Banashankari</td>\n    </tr>\n    <tr>\n      <th>4</th>\n      <td>https://www.zomato.com/bangalore/grand-village...</td>\n      <td>10, 3rd Floor, Lakshmi Associates, Gandhi Baza...</td>\n      <td>Grand Village</td>\n      <td>No</td>\n      <td>No</td>\n      <td>3.8/5</td>\n      <td>166</td>\n      <td>+91 8026612447\\r\\n+91 9901210005</td>\n      <td>Basavanagudi</td>\n      <td>Casual Dining</td>\n      <td>Panipuri, Gol Gappe</td>\n      <td>North Indian, Rajasthani</td>\n      <td>600</td>\n      <td>[('Rated 4.0', 'RATED\\n  Very good restaurant ...</td>\n      <td>[]</td>\n      <td>Buffet</td>\n      <td>Banashankari</td>\n    </tr>\n  </tbody>\n</table>\n</div>"
     },
     "execution_count": 2,
     "metadata": {},
     "output_type": "execute_result"
    }
   ],
   "source": [
    "df = pd.read_csv('./data/tripadvisor.csv')\n",
    "df.head()"
   ]
  },
  {
   "cell_type": "code",
   "execution_count": 3,
   "outputs": [
    {
     "name": "stdout",
     "output_type": "stream",
     "text": [
      "<class 'pandas.core.frame.DataFrame'>\n",
      "RangeIndex: 51717 entries, 0 to 51716\n",
      "Data columns (total 17 columns):\n",
      " #   Column                       Non-Null Count  Dtype \n",
      "---  ------                       --------------  ----- \n",
      " 0   url                          51717 non-null  object\n",
      " 1   address                      51717 non-null  object\n",
      " 2   name                         51717 non-null  object\n",
      " 3   online_order                 51717 non-null  object\n",
      " 4   book_table                   51717 non-null  object\n",
      " 5   rate                         43942 non-null  object\n",
      " 6   votes                        51717 non-null  int64 \n",
      " 7   phone                        50509 non-null  object\n",
      " 8   location                     51696 non-null  object\n",
      " 9   rest_type                    51490 non-null  object\n",
      " 10  dish_liked                   23639 non-null  object\n",
      " 11  cuisines                     51672 non-null  object\n",
      " 12  approx_cost(for two people)  51371 non-null  object\n",
      " 13  reviews_list                 51717 non-null  object\n",
      " 14  menu_item                    51717 non-null  object\n",
      " 15  listed_in(type)              51717 non-null  object\n",
      " 16  listed_in(city)              51717 non-null  object\n",
      "dtypes: int64(1), object(16)\n",
      "memory usage: 6.7+ MB\n"
     ]
    }
   ],
   "source": [
    "df.info()"
   ],
   "metadata": {
    "collapsed": false,
    "pycharm": {
     "name": "#%%\n"
    }
   }
  },
  {
   "cell_type": "code",
   "execution_count": 4,
   "metadata": {
    "pycharm": {
     "name": "#%%\n"
    }
   },
   "outputs": [],
   "source": [
    "if df.duplicated().sum() > 0:\n",
    "    df.drop_duplicates(inplace=True)"
   ]
  },
  {
   "cell_type": "code",
   "execution_count": 5,
   "metadata": {
    "pycharm": {
     "name": "#%%\n"
    }
   },
   "outputs": [
    {
     "data": {
      "text/plain": "(51717, 17)"
     },
     "execution_count": 5,
     "metadata": {},
     "output_type": "execute_result"
    }
   ],
   "source": [
    "df.shape"
   ]
  },
  {
   "cell_type": "code",
   "execution_count": 6,
   "metadata": {
    "pycharm": {
     "name": "#%%\n"
    }
   },
   "outputs": [],
   "source": [
    "df['name'] = df['name'].apply(lambda x : 'Cafe Down The Alley' if 'Down The Alley' in x else x)\n",
    "df['name'] = df['name'].apply(lambda x : 'Bohra Bohra Cafe' if 'Bohra Bohra' in x else x)\n",
    "df.online_order = df.online_order.map({'Yes': 1, 'No': 0})\n",
    "df.book_table = df.book_table.map({'Yes': 1, 'No': 0})\n",
    "df['num_reviews'] = df.reviews_list.apply(lambda x: len(x))\n",
    "df = df.rename(columns={'approx_cost(for two people)':'cost',\n",
    "                        'listed_in(type)':'type_meal',\n",
    "                        'listed_in(city)':'city'})"
   ]
  },
  {
   "cell_type": "code",
   "execution_count": 7,
   "outputs": [
    {
     "data": {
      "text/plain": "<Figure size 1224x720 with 1 Axes>",
      "image/png": "[encoded data removed]"
     },
     "metadata": {},
     "output_type": "display_data"
    }
   ],
   "source": [
    "plt.figure(figsize=(17,10))\n",
    "chains=df['name'].value_counts()[:20]\n",
    "sns.barplot(x=chains, y=chains.index, palette='deep')\n",
    "plt.title(\"Самые крупные сети ресторанов\")\n",
    "plt.xlabel(\"Количество точек\")\n",
    "plt.show()"
   ],
   "metadata": {
    "collapsed": false,
    "pycharm": {
     "name": "#%%\n"
    }
   }
  },
  {
   "cell_type": "code",
   "execution_count": 8,
   "outputs": [
    {
     "data": {
      "text/plain": "Quick Bites      19132\nCasual Dining    10330\nCafe              3732\nName: rest_type, dtype: int64"
     },
     "execution_count": 8,
     "metadata": {},
     "output_type": "execute_result"
    }
   ],
   "source": [
    "df.rest_type.value_counts()[0:3]"
   ],
   "metadata": {
    "collapsed": false,
    "pycharm": {
     "name": "#%%\n"
    }
   }
  },
  {
   "cell_type": "markdown",
   "source": [
    "Наиболее популярные типы ресторанов - Quick Bites, Casual Dining  и Cafe"
   ],
   "metadata": {
    "collapsed": false,
    "pycharm": {
     "name": "#%% md\n"
    }
   }
  },
  {
   "cell_type": "code",
   "execution_count": 9,
   "outputs": [
    {
     "name": "stdout",
     "output_type": "stream",
     "text": [
      "Рестораны с наибольшим количеством отзывов\n",
      "name\n",
      "Hammered                          5955284\n",
      "Truffles                          3879957\n",
      "Mast Kalandar                     3354424\n",
      "Onesta                            3353552\n",
      "Cafe Azzure                       2985916\n",
      "Smally's Resto Cafe               2856249\n",
      "Oh! Calcutta                      2798904\n",
      "Brooks and Bonds Brewery          2742926\n",
      "Crawl Street                      2741054\n",
      "Little Green Cafe                 2382740\n",
      "Glen's Bakehouse                  2357013\n",
      "Cafe @ Elanza                     2303300\n",
      "Stoner                            2298133\n",
      "Gilly's Restobar                  2286437\n",
      "Indy's Comfort Food               2195374\n",
      "Zee5 Loft                         2156451\n",
      "Koramangala Social                2141890\n",
      "Skoolroom                         2068111\n",
      "Asia Kitchen By Mainland China    2050759\n",
      "Soda Bottle Opener Wala           2049694\n",
      "Name: num_reviews, dtype: int64\n"
     ]
    }
   ],
   "source": [
    "top20_by_num_reviews = df.groupby('name')['num_reviews'].sum().sort_values(ascending=False)[0:20]\n",
    "print('Рестораны с наибольшим количеством отзывов')\n",
    "print(top20_by_num_reviews)"
   ],
   "metadata": {
    "collapsed": false,
    "pycharm": {
     "name": "#%%\n"
    }
   }
  },
  {
   "cell_type": "code",
   "execution_count": 10,
   "metadata": {
    "pycharm": {
     "name": "#%%\n"
    }
   },
   "outputs": [
    {
     "data": {
      "text/plain": "url                 0\naddress             0\nname                0\nonline_order        0\nbook_table          0\nrate             7775\nvotes               0\nphone            1208\nlocation           21\nrest_type         227\ndish_liked      28078\ncuisines           45\ncost              346\nreviews_list        0\nmenu_item           0\ntype_meal           0\ncity                0\nnum_reviews         0\ndtype: int64"
     },
     "execution_count": 10,
     "metadata": {},
     "output_type": "execute_result"
    }
   ],
   "source": [
    "df.isnull().sum()"
   ]
  },
  {
   "cell_type": "code",
   "execution_count": 11,
   "metadata": {
    "pycharm": {
     "name": "#%%\n"
    }
   },
   "outputs": [],
   "source": [
    "df.drop(['url','phone', 'address', 'dish_liked', 'location', 'menu_item', 'votes'], axis=1, inplace=True)"
   ]
  },
  {
   "cell_type": "code",
   "execution_count": 12,
   "metadata": {
    "pycharm": {
     "name": "#%%\n"
    }
   },
   "outputs": [
    {
     "data": {
      "text/plain": "name               0\nonline_order       0\nbook_table         0\nrate            7775\nrest_type        227\ncuisines          45\ncost             346\nreviews_list       0\ntype_meal          0\ncity               0\nnum_reviews        0\ndtype: int64"
     },
     "execution_count": 12,
     "metadata": {},
     "output_type": "execute_result"
    }
   ],
   "source": [
    "df.isnull().sum()"
   ]
  },
  {
   "cell_type": "code",
   "execution_count": 13,
   "metadata": {
    "pycharm": {
     "name": "#%%\n"
    }
   },
   "outputs": [
    {
     "name": "stdout",
     "output_type": "stream",
     "text": [
      "Распределение количества ресторанов по районам города\n",
      "BTM                      3279\n",
      "Koramangala 7th Block    2938\n",
      "Koramangala 5th Block    2836\n",
      "Koramangala 4th Block    2779\n",
      "Koramangala 6th Block    2623\n",
      "Jayanagar                2371\n",
      "JP Nagar                 2096\n",
      "Indiranagar              1860\n",
      "Church Street            1827\n",
      "MG Road                  1811\n",
      "Brigade Road             1769\n",
      "Lavelle Road             1744\n",
      "HSR                      1741\n",
      "Marathahalli             1659\n",
      "Residency Road           1620\n",
      "Whitefield               1620\n",
      "Bannerghatta Road        1617\n",
      "Brookefield              1518\n",
      "Old Airport Road         1425\n",
      "Kammanahalli             1329\n",
      "Kalyan Nagar             1309\n",
      "Basavanagudi             1266\n",
      "Sarjapur Road            1261\n",
      "Electronic City          1229\n",
      "Bellandur                1227\n",
      "Frazer Town              1185\n",
      "Malleshwaram             1096\n",
      "Rajajinagar              1079\n",
      "Banashankari              863\n",
      "New BEL Road              740\n",
      "Name: city, dtype: int64\n"
     ]
    }
   ],
   "source": [
    "print('Распределение количества ресторанов по районам города')\n",
    "print(df['city'].value_counts())"
   ]
  },
  {
   "cell_type": "markdown",
   "source": [
    "Удаляем рестораны с пропущенными значениями rest_type, cuisines, cost, rate"
   ],
   "metadata": {
    "collapsed": false,
    "pycharm": {
     "name": "#%% md\n"
    }
   }
  },
  {
   "cell_type": "code",
   "execution_count": 14,
   "metadata": {
    "pycharm": {
     "name": "#%%\n"
    }
   },
   "outputs": [],
   "source": [
    "df.dropna(subset=['rest_type', 'cuisines', 'cost', 'rate'], inplace=True)"
   ]
  },
  {
   "cell_type": "code",
   "execution_count": 15,
   "metadata": {
    "pycharm": {
     "name": "#%%\n"
    }
   },
   "outputs": [
    {
     "data": {
      "text/plain": "                    name  online_order  book_table   rate  \\\n0                  Jalsa             1           1  4.1/5   \n1         Spice Elephant             1           0  4.1/5   \n2        San Churro Cafe             1           0  3.8/5   \n3  Addhuri Udupi Bhojana             0           0  3.7/5   \n4          Grand Village             0           0  3.8/5   \n\n             rest_type                        cuisines cost  \\\n0        Casual Dining  North Indian, Mughlai, Chinese  800   \n1        Casual Dining     Chinese, North Indian, Thai  800   \n2  Cafe, Casual Dining          Cafe, Mexican, Italian  800   \n3          Quick Bites      South Indian, North Indian  300   \n4        Casual Dining        North Indian, Rajasthani  600   \n\n                                        reviews_list type_meal          city  \\\n0  [('Rated 4.0', 'RATED\\n  A beautiful place to ...    Buffet  Banashankari   \n1  [('Rated 4.0', 'RATED\\n  Had been here for din...    Buffet  Banashankari   \n2  [('Rated 3.0', \"RATED\\n  Ambience is not that ...    Buffet  Banashankari   \n3  [('Rated 4.0', \"RATED\\n  Great food and proper...    Buffet  Banashankari   \n4  [('Rated 4.0', 'RATED\\n  Very good restaurant ...    Buffet  Banashankari   \n\n   num_reviews  \n0         3955  \n1         5256  \n2         7549  \n3        14876  \n4          702  ",
      "text/html": "<div>\n<style scoped>\n    .dataframe tbody tr th:only-of-type {\n        vertical-align: middle;\n    }\n\n    .dataframe tbody tr th {\n        vertical-align: top;\n    }\n\n    .dataframe thead th {\n        text-align: right;\n    }\n</style>\n<table border=\"1\" class=\"dataframe\">\n  <thead>\n    <tr style=\"text-align: right;\">\n      <th></th>\n      <th>name</th>\n      <th>online_order</th>\n      <th>book_table</th>\n      <th>rate</th>\n      <th>rest_type</th>\n      <th>cuisines</th>\n      <th>cost</th>\n      <th>reviews_list</th>\n      <th>type_meal</th>\n      <th>city</th>\n      <th>num_reviews</th>\n    </tr>\n  </thead>\n  <tbody>\n    <tr>\n      <th>0</th>\n      <td>Jalsa</td>\n      <td>1</td>\n      <td>1</td>\n      <td>4.1/5</td>\n      <td>Casual Dining</td>\n      <td>North Indian, Mughlai, Chinese</td>\n      <td>800</td>\n      <td>[('Rated 4.0', 'RATED\\n  A beautiful place to ...</td>\n      <td>Buffet</td>\n      <td>Banashankari</td>\n      <td>3955</td>\n    </tr>\n    <tr>\n      <th>1</th>\n      <td>Spice Elephant</td>\n      <td>1</td>\n      <td>0</td>\n      <td>4.1/5</td>\n      <td>Casual Dining</td>\n      <td>Chinese, North Indian, Thai</td>\n      <td>800</td>\n      <td>[('Rated 4.0', 'RATED\\n  Had been here for din...</td>\n      <td>Buffet</td>\n      <td>Banashankari</td>\n      <td>5256</td>\n    </tr>\n    <tr>\n      <th>2</th>\n      <td>San Churro Cafe</td>\n      <td>1</td>\n      <td>0</td>\n      <td>3.8/5</td>\n      <td>Cafe, Casual Dining</td>\n      <td>Cafe, Mexican, Italian</td>\n      <td>800</td>\n      <td>[('Rated 3.0', \"RATED\\n  Ambience is not that ...</td>\n      <td>Buffet</td>\n      <td>Banashankari</td>\n      <td>7549</td>\n    </tr>\n    <tr>\n      <th>3</th>\n      <td>Addhuri Udupi Bhojana</td>\n      <td>0</td>\n      <td>0</td>\n      <td>3.7/5</td>\n      <td>Quick Bites</td>\n      <td>South Indian, North Indian</td>\n      <td>300</td>\n      <td>[('Rated 4.0', \"RATED\\n  Great food and proper...</td>\n      <td>Buffet</td>\n      <td>Banashankari</td>\n      <td>14876</td>\n    </tr>\n    <tr>\n      <th>4</th>\n      <td>Grand Village</td>\n      <td>0</td>\n      <td>0</td>\n      <td>3.8/5</td>\n      <td>Casual Dining</td>\n      <td>North Indian, Rajasthani</td>\n      <td>600</td>\n      <td>[('Rated 4.0', 'RATED\\n  Very good restaurant ...</td>\n      <td>Buffet</td>\n      <td>Banashankari</td>\n      <td>702</td>\n    </tr>\n  </tbody>\n</table>\n</div>"
     },
     "execution_count": 15,
     "metadata": {},
     "output_type": "execute_result"
    }
   ],
   "source": [
    "df.head()"
   ]
  },
  {
   "cell_type": "code",
   "execution_count": 16,
   "metadata": {
    "pycharm": {
     "name": "#%%\n"
    }
   },
   "outputs": [],
   "source": [
    "df['cost'] = df['cost'].apply(lambda x: x.replace(',',''))\n",
    "df['cost'] = df.cost.astype(float)"
   ]
  },
  {
   "cell_type": "code",
   "execution_count": 17,
   "metadata": {
    "pycharm": {
     "name": "#%%\n"
    }
   },
   "outputs": [
    {
     "data": {
      "text/plain": "<Figure size 432x288 with 1 Axes>",
      "image/png": "[encoded data removed]"
     },
     "metadata": {},
     "output_type": "display_data"
    }
   ],
   "source": [
    "df['cost'].hist(bins=100);"
   ]
  },
  {
   "cell_type": "code",
   "execution_count": 18,
   "metadata": {
    "pycharm": {
     "name": "#%%\n"
    }
   },
   "outputs": [
    {
     "data": {
      "text/plain": "array(['4.1/5', '3.8/5', '3.7/5', '3.6/5', '4.6/5', '4.0/5', '4.2/5',\n       '3.9/5', '3.1/5', '3.0/5', '3.2/5', '3.3/5', '2.8/5', '4.4/5',\n       '4.3/5', 'NEW', '2.9/5', '3.5/5', '2.6/5', '3.8 /5', '3.4/5',\n       '4.5/5', '2.5/5', '2.7/5', '4.7/5', '2.4/5', '2.2/5', '2.3/5',\n       '3.4 /5', '-', '3.6 /5', '4.8/5', '3.9 /5', '4.2 /5', '4.0 /5',\n       '4.1 /5', '3.7 /5', '3.1 /5', '2.9 /5', '3.3 /5', '2.8 /5',\n       '3.5 /5', '2.7 /5', '2.5 /5', '3.2 /5', '2.6 /5', '4.5 /5',\n       '4.3 /5', '4.4 /5', '4.9/5', '2.1/5', '2.0/5', '1.8/5', '4.6 /5',\n       '4.9 /5', '3.0 /5', '4.8 /5', '2.3 /5', '4.7 /5', '2.4 /5',\n       '2.1 /5', '2.2 /5', '2.0 /5', '1.8 /5'], dtype=object)"
     },
     "execution_count": 18,
     "metadata": {},
     "output_type": "execute_result"
    }
   ],
   "source": [
    "df['rate'].unique()"
   ]
  },
  {
   "cell_type": "code",
   "execution_count": 19,
   "metadata": {
    "pycharm": {
     "name": "#%%\n"
    }
   },
   "outputs": [],
   "source": [
    "df = df[df.rate !='NEW']\n",
    "df = df[df['rate'] !='-']"
   ]
  },
  {
   "cell_type": "code",
   "execution_count": 20,
   "metadata": {
    "pycharm": {
     "name": "#%%\n"
    }
   },
   "outputs": [],
   "source": [
    "df['rate']= df['rate'].apply(lambda x: x.replace('/5', ''))\n",
    "\n",
    "df['rate'] = df['rate'].str.strip().astype('float')\n",
    "\n",
    "restaurants = list(df['name'].unique())\n",
    "df['mean_rating'] = 0\n",
    "\n",
    "for i in range(len(restaurants)):\n",
    "    df['mean_rating'][df['name'] == restaurants[i]] = df['rate'][df['name'] == restaurants[i]].mean()"
   ]
  },
  {
   "cell_type": "code",
   "execution_count": 21,
   "metadata": {
    "pycharm": {
     "name": "#%%\n"
    }
   },
   "outputs": [
    {
     "data": {
      "text/plain": "<AxesSubplot:>"
     },
     "execution_count": 21,
     "metadata": {},
     "output_type": "execute_result"
    },
    {
     "data": {
      "text/plain": "<Figure size 432x288 with 1 Axes>",
      "image/png": "[encoded data removed]"
     },
     "metadata": {},
     "output_type": "display_data"
    }
   ],
   "source": [
    "df['rate'].hist(bins=30)"
   ]
  },
  {
   "cell_type": "code",
   "execution_count": 22,
   "metadata": {
    "pycharm": {
     "name": "#%%\n"
    }
   },
   "outputs": [
    {
     "data": {
      "text/plain": "name            0\nonline_order    0\nbook_table      0\nrate            0\nrest_type       0\ncuisines        0\ncost            0\nreviews_list    0\ntype_meal       0\ncity            0\nnum_reviews     0\nmean_rating     0\ndtype: int64"
     },
     "execution_count": 22,
     "metadata": {},
     "output_type": "execute_result"
    }
   ],
   "source": [
    "df.isnull().sum()"
   ]
  },
  {
   "cell_type": "code",
   "execution_count": 23,
   "outputs": [
    {
     "name": "stdout",
     "output_type": "stream",
     "text": [
      "Количество уникальных ресторанов (сети): 6602\n"
     ]
    }
   ],
   "source": [
    "restaurant_names = list(df['name'].unique())\n",
    "print('Количество уникальных ресторанов (сети): {}'.format(len(restaurant_names)))"
   ],
   "metadata": {
    "collapsed": false,
    "pycharm": {
     "name": "#%%\n"
    }
   }
  },
  {
   "cell_type": "code",
   "execution_count": 24,
   "metadata": {
    "pycharm": {
     "name": "#%%\n"
    }
   },
   "outputs": [
    {
     "data": {
      "text/plain": "array(['North Indian, Mughlai, Chinese', 'Chinese, North Indian, Thai',\n       'Cafe, Mexican, Italian', ..., 'Continental', 'Finger Food',\n       'Finger Food, North Indian, Continental'], dtype=object)"
     },
     "execution_count": 24,
     "metadata": {},
     "output_type": "execute_result"
    }
   ],
   "source": [
    "df.cuisines.values"
   ]
  },
  {
   "cell_type": "markdown",
   "metadata": {
    "pycharm": {
     "name": "#%% md\n"
    }
   },
   "source": []
  },
  {
   "cell_type": "code",
   "execution_count": 25,
   "metadata": {
    "pycharm": {
     "name": "#%%\n"
    }
   },
   "outputs": [],
   "source": [
    "def wordfreq(series):\n",
    "    wordfreq = {}\n",
    "    for words in series:\n",
    "        for word in words.split(','):\n",
    "            if word.strip() not in wordfreq:\n",
    "                wordfreq[word.strip()] = 0\n",
    "            wordfreq[word.strip()] += 1\n",
    "    return wordfreq\n",
    "cuisines = wordfreq(df.cuisines.values)"
   ]
  },
  {
   "cell_type": "code",
   "execution_count": 26,
   "outputs": [
    {
     "name": "stdout",
     "output_type": "stream",
     "text": [
      "ТОП-10 популярных кухнь\n",
      "----------\n",
      "North Indian    17212\n",
      "Chinese         12859\n",
      "South Indian     6357\n",
      "Fast Food        6324\n",
      "Continental      5197\n",
      "Biryani          5018\n",
      "Cafe             4785\n",
      "Desserts         4506\n",
      "Beverages        3836\n",
      "Italian          3177\n",
      "dtype: int64\n"
     ]
    }
   ],
   "source": [
    "top10_cuisines = pd.Series(cuisines).sort_values(ascending=False)[0:10]\n",
    "print('ТОП-10 популярных кухнь')\n",
    "print('-'*10)\n",
    "print(top10_cuisines)"
   ],
   "metadata": {
    "collapsed": false,
    "pycharm": {
     "name": "#%%\n"
    }
   }
  },
  {
   "cell_type": "code",
   "execution_count": 27,
   "metadata": {
    "pycharm": {
     "name": "#%%\n"
    }
   },
   "outputs": [],
   "source": [
    "df.cuisines = df.cuisines.apply(lambda x: re.sub(',',' ',re.sub(' ','',x)).strip())\n",
    "df.rest_type = df.rest_type.apply(lambda x: re.sub(',',' ',re.sub(' ','',x)).strip())\n",
    "df.type_meal = df.type_meal.apply(lambda x: x.replace(' ', ''))\n",
    "df.city = df.city.apply(lambda x: x.replace(' ', ''))"
   ]
  },
  {
   "cell_type": "code",
   "execution_count": 28,
   "metadata": {
    "pycharm": {
     "name": "#%%\n"
    }
   },
   "outputs": [],
   "source": [
    "df[\"combined\"] = df['cuisines'] + ' ' + df['type_meal'] + ' ' + df['rest_type'] + ' ' + df['city']"
   ]
  },
  {
   "cell_type": "code",
   "execution_count": 29,
   "outputs": [],
   "source": [
    "def add_features(row):\n",
    "    if row['online_order'] == 1:\n",
    "        row[\"combined\"] += ' onlineOrder'\n",
    "    if row['book_table'] == 1:\n",
    "        row[\"combined\"] += ' bookTable'\n",
    "    return row\n",
    "\n",
    "df = df.apply(lambda x: add_features(x), axis=1)"
   ],
   "metadata": {
    "collapsed": false,
    "pycharm": {
     "name": "#%%\n"
    }
   }
  },
  {
   "cell_type": "code",
   "execution_count": 30,
   "metadata": {
    "pycharm": {
     "name": "#%%\n"
    }
   },
   "outputs": [
    {
     "data": {
      "text/plain": "10549    Chinese NorthIndian Dine-out QuickBites BTM on...\n48106    Asian Burger Chinese FingerFood Dine-out Bar C...\n47230    European Continental Chinese Thai Buffet FineD...\n25410    SouthIndian Delivery CasualDining Kammanahalli...\n20022    NorthIndian Chinese Delivery Delivery Jayanaga...\nName: combined, dtype: object"
     },
     "execution_count": 30,
     "metadata": {},
     "output_type": "execute_result"
    }
   ],
   "source": [
    "df[\"combined\"].sample(5)"
   ]
  },
  {
   "cell_type": "code",
   "execution_count": 31,
   "metadata": {
    "pycharm": {
     "name": "#%%\n"
    }
   },
   "outputs": [],
   "source": [
    "df_percent = df.sample(frac=0.7)\n",
    "df_percent['idx'] = df_percent.index"
   ]
  },
  {
   "cell_type": "code",
   "execution_count": 32,
   "metadata": {
    "pycharm": {
     "name": "#%%\n"
    }
   },
   "outputs": [],
   "source": [
    "vectorizer = TfidfVectorizer(dtype='float32')\n",
    "matrix = vectorizer.fit_transform(df_percent[\"combined\"])"
   ]
  },
  {
   "cell_type": "code",
   "execution_count": 33,
   "metadata": {
    "pycharm": {
     "name": "#%%\n"
    }
   },
   "outputs": [],
   "source": [
    "cosine_similarities = cosine_similarity(matrix, matrix)"
   ]
  },
  {
   "cell_type": "code",
   "execution_count": 34,
   "outputs": [],
   "source": [
    "def recommend(sample, cosine_similarities = cosine_similarities):\n",
    "\n",
    "    idx = sample.idx\n",
    "    score_series = pd.Series(cosine_similarities[idx]).sort_values(ascending=False)\n",
    "\n",
    "    top30_indexes = list(score_series.iloc[0:31].index)\n",
    "\n",
    "    recommend_restaurant = pd.DataFrame(columns=['name', 'combined', 'cuisines', 'rate', 'cost', 'city'])\n",
    "\n",
    "    for each in top30_indexes:\n",
    "        recommend_restaurant = recommend_restaurant.append(pd.DataFrame(df_percent[['name', 'combined', 'cuisines','rate', 'cost', 'city']][df_percent.index == each]))\n",
    "\n",
    "    recommend_restaurant = recommend_restaurant.sort_values(by='rate', ascending=False).head(10)\n",
    "\n",
    "    print('TOP %s RECOMMENDED RESTAURANTS: ' % (str(len(recommend_restaurant))))\n",
    "\n",
    "    return recommend_restaurant"
   ],
   "metadata": {
    "collapsed": false,
    "pycharm": {
     "name": "#%%\n"
    }
   }
  },
  {
   "cell_type": "code",
   "execution_count": 35,
   "outputs": [
    {
     "name": "stdout",
     "output_type": "stream",
     "text": [
      "name                                       Shivaji Military Hotel\n",
      "online_order                                                    0\n",
      "book_table                                                      0\n",
      "rate                                                          4.3\n",
      "rest_type                                            CasualDining\n",
      "cuisines                                      SouthIndian Biryani\n",
      "cost                                                        450.0\n",
      "reviews_list    [('Rated 5.0', \"RATED\\n  Wanted to visit this ...\n",
      "type_meal                                                Dine-out\n",
      "city                                                      JPNagar\n",
      "num_reviews                                                148965\n",
      "mean_rating                                                  3.75\n",
      "combined        SouthIndian Biryani Dine-out CasualDining JPNagar\n",
      "idx                                                         23588\n",
      "Name: 23588, dtype: object\n",
      "TOP 10 RECOMMENDED RESTAURANTS: \n"
     ]
    },
    {
     "data": {
      "text/plain": "                                     name  \\\n23588              Shivaji Military Hotel   \n6271                          White Plate   \n8437            A2B - Adyar Ananda Bhavan   \n11426                 Tapri By The Corner   \n19412                         Dr. Sheesha   \n14277                           The Daily   \n12215  The Oriental Spice - Ashraya Hotel   \n25988                   Raidan Restaurant   \n20577                    Flavour of China   \n12119                    Kadamba Foodline   \n\n                                                combined  \\\n23588  SouthIndian Biryani Dine-out CasualDining JPNagar   \n6271   Thai Continental NorthIndian Dine-out CasualDi...   \n8437   SouthIndian NorthIndian StreetFood Delivery Ta...   \n11426       FastFood Dine-out QuickBites BTM onlineOrder   \n19412  Cafe Chinese Continental Italian Cafes Cafe Ja...   \n14277  Rajasthani NorthIndian Dine-out QuickBites Ele...   \n12215  Chinese Thai Indonesian Delivery CasualDining ...   \n25988  Arabian Chinese NorthIndian Dine-out CasualDin...   \n20577  Chinese Delivery CasualDining Jayanagar online...   \n12119  Chinese NorthIndian SouthIndian StreetFood Del...   \n\n                                         cuisines rate    cost            city  \n23588                         SouthIndian Biryani  4.3   450.0         JPNagar  \n6271                 Thai Continental NorthIndian  4.2  1500.0     BrigadeRoad  \n8437           SouthIndian NorthIndian StreetFood  4.2   200.0             BTM  \n11426                                    FastFood  4.1   250.0             BTM  \n19412            Cafe Chinese Continental Italian  4.1   800.0       Jayanagar  \n14277                      Rajasthani NorthIndian  4.0   400.0  ElectronicCity  \n12215                     Chinese Thai Indonesian  3.9  1300.0    ChurchStreet  \n25988                 Arabian Chinese NorthIndian  3.9   450.0    Kammanahalli  \n20577                                     Chinese  3.8   550.0       Jayanagar  \n12119  Chinese NorthIndian SouthIndian StreetFood  3.7   400.0    ChurchStreet  ",
      "text/html": "<div>\n<style scoped>\n    .dataframe tbody tr th:only-of-type {\n        vertical-align: middle;\n    }\n\n    .dataframe tbody tr th {\n        vertical-align: top;\n    }\n\n    .dataframe thead th {\n        text-align: right;\n    }\n</style>\n<table border=\"1\" class=\"dataframe\">\n  <thead>\n    <tr style=\"text-align: right;\">\n      <th></th>\n      <th>name</th>\n      <th>combined</th>\n      <th>cuisines</th>\n      <th>rate</th>\n      <th>cost</th>\n      <th>city</th>\n    </tr>\n  </thead>\n  <tbody>\n    <tr>\n      <th>23588</th>\n      <td>Shivaji Military Hotel</td>\n      <td>SouthIndian Biryani Dine-out CasualDining JPNagar</td>\n      <td>SouthIndian Biryani</td>\n      <td>4.3</td>\n      <td>450.0</td>\n      <td>JPNagar</td>\n    </tr>\n    <tr>\n      <th>6271</th>\n      <td>White Plate</td>\n      <td>Thai Continental NorthIndian Dine-out CasualDi...</td>\n      <td>Thai Continental NorthIndian</td>\n      <td>4.2</td>\n      <td>1500.0</td>\n      <td>BrigadeRoad</td>\n    </tr>\n    <tr>\n      <th>8437</th>\n      <td>A2B - Adyar Ananda Bhavan</td>\n      <td>SouthIndian NorthIndian StreetFood Delivery Ta...</td>\n      <td>SouthIndian NorthIndian StreetFood</td>\n      <td>4.2</td>\n      <td>200.0</td>\n      <td>BTM</td>\n    </tr>\n    <tr>\n      <th>11426</th>\n      <td>Tapri By The Corner</td>\n      <td>FastFood Dine-out QuickBites BTM onlineOrder</td>\n      <td>FastFood</td>\n      <td>4.1</td>\n      <td>250.0</td>\n      <td>BTM</td>\n    </tr>\n    <tr>\n      <th>19412</th>\n      <td>Dr. Sheesha</td>\n      <td>Cafe Chinese Continental Italian Cafes Cafe Ja...</td>\n      <td>Cafe Chinese Continental Italian</td>\n      <td>4.1</td>\n      <td>800.0</td>\n      <td>Jayanagar</td>\n    </tr>\n    <tr>\n      <th>14277</th>\n      <td>The Daily</td>\n      <td>Rajasthani NorthIndian Dine-out QuickBites Ele...</td>\n      <td>Rajasthani NorthIndian</td>\n      <td>4.0</td>\n      <td>400.0</td>\n      <td>ElectronicCity</td>\n    </tr>\n    <tr>\n      <th>12215</th>\n      <td>The Oriental Spice - Ashraya Hotel</td>\n      <td>Chinese Thai Indonesian Delivery CasualDining ...</td>\n      <td>Chinese Thai Indonesian</td>\n      <td>3.9</td>\n      <td>1300.0</td>\n      <td>ChurchStreet</td>\n    </tr>\n    <tr>\n      <th>25988</th>\n      <td>Raidan Restaurant</td>\n      <td>Arabian Chinese NorthIndian Dine-out CasualDin...</td>\n      <td>Arabian Chinese NorthIndian</td>\n      <td>3.9</td>\n      <td>450.0</td>\n      <td>Kammanahalli</td>\n    </tr>\n    <tr>\n      <th>20577</th>\n      <td>Flavour of China</td>\n      <td>Chinese Delivery CasualDining Jayanagar online...</td>\n      <td>Chinese</td>\n      <td>3.8</td>\n      <td>550.0</td>\n      <td>Jayanagar</td>\n    </tr>\n    <tr>\n      <th>12119</th>\n      <td>Kadamba Foodline</td>\n      <td>Chinese NorthIndian SouthIndian StreetFood Del...</td>\n      <td>Chinese NorthIndian SouthIndian StreetFood</td>\n      <td>3.7</td>\n      <td>400.0</td>\n      <td>ChurchStreet</td>\n    </tr>\n  </tbody>\n</table>\n</div>"
     },
     "execution_count": 35,
     "metadata": {},
     "output_type": "execute_result"
    }
   ],
   "source": [
    "restaurant = df_percent.sample(1).iloc[0]\n",
    "print(restaurant)\n",
    "sample_idx = restaurant.idx\n",
    "\n",
    "recommend(restaurant)"
   ],
   "metadata": {
    "collapsed": false,
    "pycharm": {
     "name": "#%%\n"
    }
   }
  },
  {
   "cell_type": "code",
   "execution_count": 36,
   "outputs": [],
   "source": [
    "from sklearn.cluster import KMeans\n",
    "#\n",
    "#\n",
    "# # Выбор количества кластеров\n",
    "\n",
    "# distortions = []\n",
    "# n = 15\n",
    "# for i in range(3, n):\n",
    "#     print(i)\n",
    "#     km = KMeans(n_clusters=i,\n",
    "#                 init='k-means++',\n",
    "#                 n_init=10,\n",
    "#                 max_iter=300,\n",
    "#                 random_state=0)\n",
    "#     km.fit(cosine_similarities)\n",
    "#     distortions.append(km.inertia_)\n",
    "#\n",
    "# plt.figure(figsize=(15, 9))\n",
    "# plt.plot(range(3, n), distortions, marker='o')\n",
    "# plt.xlabel('Number of clusters')\n",
    "# plt.ylabel('Distortion')\n",
    "# plt.tight_layout()\n",
    "# plt.show();"
   ],
   "metadata": {
    "collapsed": false,
    "pycharm": {
     "name": "#%%\n"
    }
   }
  },
  {
   "cell_type": "code",
   "execution_count": null,
   "outputs": [],
   "source": [
    "km = KMeans(n_clusters=10,\n",
    "            init='random',\n",
    "            n_init=11,\n",
    "            max_iter=300,\n",
    "            tol=1e-04,\n",
    "            random_state=0)\n",
    "\n",
    "km.fit(cosine_similarities)"
   ],
   "metadata": {
    "collapsed": false,
    "pycharm": {
     "name": "#%%\n"
    }
   }
  },
  {
   "cell_type": "code",
   "execution_count": null,
   "outputs": [],
   "source": [
    "clusters = km.predict(cosine_similarities)\n",
    "x_dist = km.transform(cosine_similarities)\n",
    "df_percent['cluster'] = clusters"
   ],
   "metadata": {
    "collapsed": false,
    "pycharm": {
     "name": "#%%\n"
    }
   }
  },
  {
   "cell_type": "markdown",
   "source": [
    "## Выводы\n",
    "Проведено исследование данных.\n",
    "Разработана content-based рекомендательная система на основе данных об отзывах на рестораны от TripAdvisor.\n",
    "Для рекомендательной системы были выделены следующие признаки, как наиболее важные:\n",
    "- тип кухни (cuisines)\n",
    "- тип ресторана (rest_type)\n",
    "- тип еды (type_meal)\n",
    "- расположение ресторана (район города) (listed_in(city))\n",
    "- возможность онлайн заказа (online_order)\n",
    "- возможность бронирования столика (book_table)\n",
    "\n",
    "Выбранные признаки были преобразованы в частотные векторы c помощью TFIDFVectorizer. Близость векторов оценивалась с помощью косинусного расстояния.\n",
    "В итоге в рекомендации попадают наиболее близкие рестораны дополнительно отсортированные по рейтингу.\n",
    "\n",
    "К сожалению, качество рекомендаций измерить не хватило времени :( (Планировал провести кластеризацию всех ресторанов с помощью KMeans, по расстояниям до центров\n",
    "кластеров оценивать качество)\n",
    "Но и без измерения видно, что рекомендации очень близки.\n",
    "В развитие системы: можно учитывать еще признак цены, понравившиеся блюда, а также поработать с отзывами - вытащить оттуда полезную информацию."
   ],
   "metadata": {
    "collapsed": false,
    "pycharm": {
     "name": "#%% md\n"
    }
   }
  },
  {
   "cell_type": "code",
   "execution_count": null,
   "outputs": [],
   "source": [],
   "metadata": {
    "collapsed": false,
    "pycharm": {
     "name": "#%%\n"
    }
   }
  }
 ],
 "metadata": {
  "kernelspec": {
   "display_name": "Python 3.8.10 ('venv_nlp': venv)",
   "language": "python",
   "name": "python3"
  },
  "language_info": {
   "codemirror_mode": {
    "name": "ipython",
    "version": 3
   },
   "file_extension": ".py",
   "mimetype": "text/x-python",
   "name": "python",
   "nbconvert_exporter": "python",
   "pygments_lexer": "ipython3",
   "version": "3.8.10"
  },
  "orig_nbformat": 4,
  "vscode": {
   "interpreter": {
    "hash": "e5662a6ab5ac46bf7edc98942cc53a012a09d6aaf72c7c8c7f6f249fc31cf517"
   }
  }
 },
 "nbformat": 4,
 "nbformat_minor": 2
}